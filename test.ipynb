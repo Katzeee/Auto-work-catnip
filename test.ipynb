{
 "cells": [
  {
   "cell_type": "code",
   "execution_count": 8,
   "metadata": {},
   "outputs": [],
   "source": [
    "from selenium import webdriver\n",
    "from selenium.webdriver.common.by import By"
   ]
  },
  {
   "cell_type": "code",
   "execution_count": 27,
   "metadata": {},
   "outputs": [],
   "source": [
    "browser = webdriver.Edge()"
   ]
  },
  {
   "cell_type": "code",
   "execution_count": 28,
   "metadata": {},
   "outputs": [],
   "source": [
    "browser.get('https://fanyi.baidu.com')"
   ]
  },
  {
   "cell_type": "code",
   "execution_count": 29,
   "metadata": {},
   "outputs": [],
   "source": [
    "ele = browser.find_element(By.ID, \"baidu_translate_input\")"
   ]
  },
  {
   "cell_type": "code",
   "execution_count": 30,
   "metadata": {},
   "outputs": [],
   "source": [
    "ele.send_keys(\"PROBLEM:\\nMEB31 CHINA BASE- HME\\nROBUSTHEITSMAßNAHMEN\\nSCHRAUBENSICHERUNG & BZD-LABEL\\n1. Risiko Vorspannkraftverlust M5x14 Verschraubungen.\\n2. Das aktuell eingesetzte BZD-Label entspricht nicht der auf der ZSBZeichnung\\nangeforderten VW-Norm VW01064.\\nAUSLÖSER (ABNAHMEFAHRT, VERSUCH, MEISTERBOCK ETC.):\\nURSACHE:\\n1. Derzeit werden hier Schrauben ohne zusätzliche Sicherung gegen\\nLösen eingeseetzt.\\n2. Das aktuell eingesetzte BZD-Label entspricht nicht der auf der ZSBZeichnung\\nangeforderten VW-Norm VW01064.\")"
   ]
  },
  {
   "cell_type": "code",
   "execution_count": 33,
   "metadata": {},
   "outputs": [],
   "source": [
    "output = browser.find_element(By.CLASS_NAME, \"output-bd\")"
   ]
  },
  {
   "cell_type": "code",
   "execution_count": 34,
   "metadata": {},
   "outputs": [
    {
     "data": {
      "text/plain": [
       "'问题：\\nMEB31中国基地-HME\\n强有力的措施\\nBZD标签的螺钉安全\\n1.预应力M5x14螺栓损失的风险。\\n2.当前使用的BZD标签与ZSB图纸上的标签不一致\\n要求VW标准VW01064。\\n触发器（DRIVE、TEST、MASTERBOCK等）：\\n原因：\\n1.目前，此处使用的螺钉没有额外的防护\\n松开。\\n2.当前使用的BZD标签与ZSB图纸上的标签不一致\\n要求VW标准VW01064。'"
      ]
     },
     "execution_count": 34,
     "metadata": {},
     "output_type": "execute_result"
    }
   ],
   "source": [
    "output.text"
   ]
  },
  {
   "cell_type": "code",
   "execution_count": 22,
   "metadata": {},
   "outputs": [],
   "source": [
    "ele.clear()"
   ]
  },
  {
   "cell_type": "code",
   "execution_count": 35,
   "metadata": {},
   "outputs": [],
   "source": [
    "browser.close()"
   ]
  },
  {
   "cell_type": "code",
   "execution_count": 1,
   "metadata": {},
   "outputs": [
    {
     "data": {
      "text/plain": [
       "'123\\n321'"
      ]
     },
     "execution_count": 1,
     "metadata": {},
     "output_type": "execute_result"
    }
   ],
   "source": [
    "text = \"123\\n321\"\n",
    "text"
   ]
  },
  {
   "cell_type": "code",
   "execution_count": 4,
   "metadata": {},
   "outputs": [],
   "source": [
    "text = text.replace('\\n', ' ')"
   ]
  },
  {
   "cell_type": "code",
   "execution_count": 3,
   "metadata": {},
   "outputs": [
    {
     "data": {
      "text/plain": [
       "'123\\n321'"
      ]
     },
     "execution_count": 3,
     "metadata": {},
     "output_type": "execute_result"
    }
   ],
   "source": [
    "text"
   ]
  },
  {
   "cell_type": "code",
   "execution_count": null,
   "metadata": {},
   "outputs": [],
   "source": []
  }
 ],
 "metadata": {
  "kernelspec": {
   "display_name": "Python 3.9.11 64-bit",
   "language": "python",
   "name": "python3"
  },
  "language_info": {
   "codemirror_mode": {
    "name": "ipython",
    "version": 3
   },
   "file_extension": ".py",
   "mimetype": "text/x-python",
   "name": "python",
   "nbconvert_exporter": "python",
   "pygments_lexer": "ipython3",
   "version": "3.9.11"
  },
  "orig_nbformat": 4,
  "vscode": {
   "interpreter": {
    "hash": "1eb71e714c2a1bbfc91d3a1ed02399b846367c62fca82a5b3a9325d7b60709de"
   }
  }
 },
 "nbformat": 4,
 "nbformat_minor": 2
}
